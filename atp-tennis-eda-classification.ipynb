{
 "cells": [
  {
   "cell_type": "code",
   "execution_count": 1,
   "id": "9064157e",
   "metadata": {
    "_cell_guid": "b1076dfc-b9ad-4769-8c92-a6c4dae69d19",
    "_uuid": "8f2839f25d086af736a60e9eeb907d3b93b6e0e5",
    "execution": {
     "iopub.execute_input": "2023-05-12T20:55:36.522555Z",
     "iopub.status.busy": "2023-05-12T20:55:36.522194Z",
     "iopub.status.idle": "2023-05-12T20:55:36.537539Z",
     "shell.execute_reply": "2023-05-12T20:55:36.536815Z"
    },
    "papermill": {
     "duration": 0.021169,
     "end_time": "2023-05-12T20:55:36.539610",
     "exception": false,
     "start_time": "2023-05-12T20:55:36.518441",
     "status": "completed"
    },
    "tags": []
   },
   "outputs": [
    {
     "name": "stdout",
     "output_type": "stream",
     "text": [
      "/kaggle/input/atp-tennis-2013-2023/atp_tennis.csv\n"
     ]
    }
   ],
   "source": [
    "import numpy as np\n",
    "import pandas as pd \n",
    "\n",
    "import os\n",
    "for dirname, _, filenames in os.walk('/kaggle/input'):\n",
    "    for filename in filenames:\n",
    "        print(os.path.join(dirname, filename))\n"
   ]
  },
  {
   "cell_type": "code",
   "execution_count": 2,
   "id": "c1bfee4e",
   "metadata": {
    "execution": {
     "iopub.execute_input": "2023-05-12T20:55:36.546815Z",
     "iopub.status.busy": "2023-05-12T20:55:36.545935Z",
     "iopub.status.idle": "2023-05-12T20:55:36.678520Z",
     "shell.execute_reply": "2023-05-12T20:55:36.677475Z"
    },
    "papermill": {
     "duration": 0.139378,
     "end_time": "2023-05-12T20:55:36.681048",
     "exception": false,
     "start_time": "2023-05-12T20:55:36.541670",
     "status": "completed"
    },
    "tags": []
   },
   "outputs": [],
   "source": [
    "path=\"/kaggle/input/atp-tennis-2013-2023/atp_tennis.csv\"\n",
    "df_atp=pd.read_csv(path)"
   ]
  },
  {
   "cell_type": "code",
   "execution_count": 3,
   "id": "14c5508a",
   "metadata": {
    "execution": {
     "iopub.execute_input": "2023-05-12T20:55:36.686373Z",
     "iopub.status.busy": "2023-05-12T20:55:36.685981Z",
     "iopub.status.idle": "2023-05-12T20:55:36.719860Z",
     "shell.execute_reply": "2023-05-12T20:55:36.718790Z"
    },
    "papermill": {
     "duration": 0.039011,
     "end_time": "2023-05-12T20:55:36.722002",
     "exception": false,
     "start_time": "2023-05-12T20:55:36.682991",
     "status": "completed"
    },
    "tags": []
   },
   "outputs": [
    {
     "data": {
      "text/html": [
       "<div>\n",
       "<style scoped>\n",
       "    .dataframe tbody tr th:only-of-type {\n",
       "        vertical-align: middle;\n",
       "    }\n",
       "\n",
       "    .dataframe tbody tr th {\n",
       "        vertical-align: top;\n",
       "    }\n",
       "\n",
       "    .dataframe thead th {\n",
       "        text-align: right;\n",
       "    }\n",
       "</style>\n",
       "<table border=\"1\" class=\"dataframe\">\n",
       "  <thead>\n",
       "    <tr style=\"text-align: right;\">\n",
       "      <th></th>\n",
       "      <th>Tournament</th>\n",
       "      <th>Date</th>\n",
       "      <th>Series</th>\n",
       "      <th>Court</th>\n",
       "      <th>Surface</th>\n",
       "      <th>Round</th>\n",
       "      <th>Best of</th>\n",
       "      <th>Player_1</th>\n",
       "      <th>Player_2</th>\n",
       "      <th>Winner</th>\n",
       "      <th>Rank_1</th>\n",
       "      <th>Rank_2</th>\n",
       "      <th>Pts_1</th>\n",
       "      <th>Pts_2</th>\n",
       "      <th>Odd_1</th>\n",
       "      <th>Odd_2</th>\n",
       "      <th>score</th>\n",
       "    </tr>\n",
       "  </thead>\n",
       "  <tbody>\n",
       "    <tr>\n",
       "      <th>0</th>\n",
       "      <td>Brisbane International</td>\n",
       "      <td>2012-12-31</td>\n",
       "      <td>ATP250</td>\n",
       "      <td>Outdoor</td>\n",
       "      <td>Hard</td>\n",
       "      <td>1st Round</td>\n",
       "      <td>3</td>\n",
       "      <td>Mayer F.</td>\n",
       "      <td>Giraldo S.</td>\n",
       "      <td>Mayer F.</td>\n",
       "      <td>28</td>\n",
       "      <td>57</td>\n",
       "      <td>1215</td>\n",
       "      <td>778</td>\n",
       "      <td>1.36</td>\n",
       "      <td>3.00</td>\n",
       "      <td>6-4 6-4</td>\n",
       "    </tr>\n",
       "    <tr>\n",
       "      <th>1</th>\n",
       "      <td>Brisbane International</td>\n",
       "      <td>2012-12-31</td>\n",
       "      <td>ATP250</td>\n",
       "      <td>Outdoor</td>\n",
       "      <td>Hard</td>\n",
       "      <td>1st Round</td>\n",
       "      <td>3</td>\n",
       "      <td>Benneteau J.</td>\n",
       "      <td>Nieminen J.</td>\n",
       "      <td>Nieminen J.</td>\n",
       "      <td>35</td>\n",
       "      <td>41</td>\n",
       "      <td>1075</td>\n",
       "      <td>927</td>\n",
       "      <td>2.20</td>\n",
       "      <td>1.61</td>\n",
       "      <td>3-6 6-2 1-6</td>\n",
       "    </tr>\n",
       "    <tr>\n",
       "      <th>2</th>\n",
       "      <td>Brisbane International</td>\n",
       "      <td>2012-12-31</td>\n",
       "      <td>ATP250</td>\n",
       "      <td>Outdoor</td>\n",
       "      <td>Hard</td>\n",
       "      <td>1st Round</td>\n",
       "      <td>3</td>\n",
       "      <td>Nishikori K.</td>\n",
       "      <td>Matosevic M.</td>\n",
       "      <td>Nishikori K.</td>\n",
       "      <td>19</td>\n",
       "      <td>49</td>\n",
       "      <td>1830</td>\n",
       "      <td>845</td>\n",
       "      <td>1.25</td>\n",
       "      <td>3.75</td>\n",
       "      <td>7-5 6-2</td>\n",
       "    </tr>\n",
       "    <tr>\n",
       "      <th>3</th>\n",
       "      <td>Brisbane International</td>\n",
       "      <td>2012-12-31</td>\n",
       "      <td>ATP250</td>\n",
       "      <td>Outdoor</td>\n",
       "      <td>Hard</td>\n",
       "      <td>1st Round</td>\n",
       "      <td>3</td>\n",
       "      <td>Mitchell B.</td>\n",
       "      <td>Baghdatis M.</td>\n",
       "      <td>Baghdatis M.</td>\n",
       "      <td>326</td>\n",
       "      <td>36</td>\n",
       "      <td>137</td>\n",
       "      <td>1070</td>\n",
       "      <td>9.00</td>\n",
       "      <td>1.07</td>\n",
       "      <td>4-6 4-6</td>\n",
       "    </tr>\n",
       "    <tr>\n",
       "      <th>4</th>\n",
       "      <td>Brisbane International</td>\n",
       "      <td>2013-01-01</td>\n",
       "      <td>ATP250</td>\n",
       "      <td>Outdoor</td>\n",
       "      <td>Hard</td>\n",
       "      <td>1st Round</td>\n",
       "      <td>3</td>\n",
       "      <td>Istomin D.</td>\n",
       "      <td>Klizan M.</td>\n",
       "      <td>Istomin D.</td>\n",
       "      <td>43</td>\n",
       "      <td>30</td>\n",
       "      <td>897</td>\n",
       "      <td>1175</td>\n",
       "      <td>1.90</td>\n",
       "      <td>1.80</td>\n",
       "      <td>6-1 6-2</td>\n",
       "    </tr>\n",
       "  </tbody>\n",
       "</table>\n",
       "</div>"
      ],
      "text/plain": [
       "               Tournament        Date  Series    Court Surface      Round  \\\n",
       "0  Brisbane International  2012-12-31  ATP250  Outdoor    Hard  1st Round   \n",
       "1  Brisbane International  2012-12-31  ATP250  Outdoor    Hard  1st Round   \n",
       "2  Brisbane International  2012-12-31  ATP250  Outdoor    Hard  1st Round   \n",
       "3  Brisbane International  2012-12-31  ATP250  Outdoor    Hard  1st Round   \n",
       "4  Brisbane International  2013-01-01  ATP250  Outdoor    Hard  1st Round   \n",
       "\n",
       "   Best of      Player_1      Player_2        Winner  Rank_1  Rank_2  Pts_1  \\\n",
       "0        3      Mayer F.    Giraldo S.      Mayer F.      28      57   1215   \n",
       "1        3  Benneteau J.   Nieminen J.   Nieminen J.      35      41   1075   \n",
       "2        3  Nishikori K.  Matosevic M.  Nishikori K.      19      49   1830   \n",
       "3        3   Mitchell B.  Baghdatis M.  Baghdatis M.     326      36    137   \n",
       "4        3    Istomin D.     Klizan M.    Istomin D.      43      30    897   \n",
       "\n",
       "   Pts_2  Odd_1  Odd_2          score  \n",
       "0    778   1.36   3.00     6-4 6-4     \n",
       "1    927   2.20   1.61  3-6 6-2 1-6    \n",
       "2    845   1.25   3.75     7-5 6-2     \n",
       "3   1070   9.00   1.07     4-6 4-6     \n",
       "4   1175   1.90   1.80     6-1 6-2     "
      ]
     },
     "execution_count": 3,
     "metadata": {},
     "output_type": "execute_result"
    }
   ],
   "source": [
    "df_atp.head()"
   ]
  }
 ],
 "metadata": {
  "kernelspec": {
   "display_name": "Python 3",
   "language": "python",
   "name": "python3"
  },
  "language_info": {
   "codemirror_mode": {
    "name": "ipython",
    "version": 3
   },
   "file_extension": ".py",
   "mimetype": "text/x-python",
   "name": "python",
   "nbconvert_exporter": "python",
   "pygments_lexer": "ipython3",
   "version": "3.10.10"
  },
  "papermill": {
   "default_parameters": {},
   "duration": 10.672144,
   "end_time": "2023-05-12T20:55:37.443525",
   "environment_variables": {},
   "exception": null,
   "input_path": "__notebook__.ipynb",
   "output_path": "__notebook__.ipynb",
   "parameters": {},
   "start_time": "2023-05-12T20:55:26.771381",
   "version": "2.4.0"
  }
 },
 "nbformat": 4,
 "nbformat_minor": 5
}
