{
 "cells": [
  {
   "cell_type": "code",
   "execution_count": 1,
   "id": "7db62f44",
   "metadata": {
    "execution": {
     "iopub.execute_input": "2023-07-29T16:10:01.192044Z",
     "iopub.status.busy": "2023-07-29T16:10:01.191524Z",
     "iopub.status.idle": "2023-07-29T16:10:01.197686Z",
     "shell.execute_reply": "2023-07-29T16:10:01.196475Z"
    },
    "papermill": {
     "duration": 0.020229,
     "end_time": "2023-07-29T16:10:01.202927",
     "exception": false,
     "start_time": "2023-07-29T16:10:01.182698",
     "status": "completed"
    },
    "tags": []
   },
   "outputs": [],
   "source": [
    "#!pip install numpy==1.22.0"
   ]
  },
  {
   "cell_type": "code",
   "execution_count": 2,
   "id": "ab224a62",
   "metadata": {
    "_cell_guid": "b1076dfc-b9ad-4769-8c92-a6c4dae69d19",
    "_uuid": "8f2839f25d086af736a60e9eeb907d3b93b6e0e5",
    "execution": {
     "iopub.execute_input": "2023-07-29T16:10:01.217737Z",
     "iopub.status.busy": "2023-07-29T16:10:01.217358Z",
     "iopub.status.idle": "2023-07-29T16:10:01.240803Z",
     "shell.execute_reply": "2023-07-29T16:10:01.239996Z"
    },
    "papermill": {
     "duration": 0.033387,
     "end_time": "2023-07-29T16:10:01.243017",
     "exception": false,
     "start_time": "2023-07-29T16:10:01.209630",
     "status": "completed"
    },
    "tags": []
   },
   "outputs": [
    {
     "name": "stdout",
     "output_type": "stream",
     "text": [
      "/kaggle/input/fake-and-real-news-dataset/True.csv\n",
      "/kaggle/input/fake-and-real-news-dataset/Fake.csv\n"
     ]
    }
   ],
   "source": [
    "import os\n",
    "for dirname, _, filenames in os.walk('/kaggle/input'):\n",
    "    for filename in filenames:\n",
    "        print(os.path.join(dirname, filename))"
   ]
  },
  {
   "cell_type": "code",
   "execution_count": 3,
   "id": "8a6e82ea",
   "metadata": {
    "execution": {
     "iopub.execute_input": "2023-07-29T16:10:01.257319Z",
     "iopub.status.busy": "2023-07-29T16:10:01.256890Z",
     "iopub.status.idle": "2023-07-29T16:10:02.843818Z",
     "shell.execute_reply": "2023-07-29T16:10:02.842945Z"
    },
    "papermill": {
     "duration": 1.597101,
     "end_time": "2023-07-29T16:10:02.846475",
     "exception": false,
     "start_time": "2023-07-29T16:10:01.249374",
     "status": "completed"
    },
    "tags": []
   },
   "outputs": [
    {
     "name": "stderr",
     "output_type": "stream",
     "text": [
      "/opt/conda/lib/python3.10/site-packages/scipy/__init__.py:146: UserWarning: A NumPy version >=1.16.5 and <1.23.0 is required for this version of SciPy (detected version 1.23.5\n",
      "  warnings.warn(f\"A NumPy version >={np_minversion} and <{np_maxversion}\"\n"
     ]
    }
   ],
   "source": [
    "import numpy as np \n",
    "import pandas as pd \n",
    "import matplotlib.pyplot as plt\n",
    "import seaborn as sns\n",
    "from tqdm import tqdm"
   ]
  },
  {
   "cell_type": "code",
   "execution_count": 4,
   "id": "a124b8e2",
   "metadata": {
    "execution": {
     "iopub.execute_input": "2023-07-29T16:10:02.861192Z",
     "iopub.status.busy": "2023-07-29T16:10:02.860748Z",
     "iopub.status.idle": "2023-07-29T16:10:14.524465Z",
     "shell.execute_reply": "2023-07-29T16:10:14.522718Z"
    },
    "papermill": {
     "duration": 11.674246,
     "end_time": "2023-07-29T16:10:14.527378",
     "exception": false,
     "start_time": "2023-07-29T16:10:02.853132",
     "status": "completed"
    },
    "tags": []
   },
   "outputs": [
    {
     "name": "stderr",
     "output_type": "stream",
     "text": [
      "/opt/conda/lib/python3.10/site-packages/tensorflow_io/python/ops/__init__.py:98: UserWarning: unable to load libtensorflow_io_plugins.so: unable to open file: libtensorflow_io_plugins.so, from paths: ['/opt/conda/lib/python3.10/site-packages/tensorflow_io/python/ops/libtensorflow_io_plugins.so']\n",
      "caused by: ['/opt/conda/lib/python3.10/site-packages/tensorflow_io/python/ops/libtensorflow_io_plugins.so: undefined symbol: _ZN3tsl6StatusC1EN10tensorflow5error4CodeESt17basic_string_viewIcSt11char_traitsIcEENS_14SourceLocationE']\n",
      "  warnings.warn(f\"unable to load libtensorflow_io_plugins.so: {e}\")\n",
      "/opt/conda/lib/python3.10/site-packages/tensorflow_io/python/ops/__init__.py:104: UserWarning: file system plugins are not loaded: unable to open file: libtensorflow_io.so, from paths: ['/opt/conda/lib/python3.10/site-packages/tensorflow_io/python/ops/libtensorflow_io.so']\n",
      "caused by: ['/opt/conda/lib/python3.10/site-packages/tensorflow_io/python/ops/libtensorflow_io.so: undefined symbol: _ZTVN10tensorflow13GcsFileSystemE']\n",
      "  warnings.warn(f\"file system plugins are not loaded: {e}\")\n"
     ]
    }
   ],
   "source": [
    "from transformers import AutoTokenizer,TFAutoModelForSequenceClassification\n",
    "import tensorflow as tf\n",
    "from tensorflow.keras import Sequential\n",
    "from tensorflow.keras.layers import LSTM,Bidirectional,\\\n",
    "                                    SimpleRNN,Conv1D,Embedding, \\\n",
    "                                    Dense,Dropout,GlobalAveragePooling1D\n",
    "from tensorflow.keras.utils import pad_sequences\n",
    "from nltk.corpus import stopwords\n",
    "stopwords=stopwords.words(\"english\")"
   ]
  },
  {
   "cell_type": "code",
   "execution_count": 5,
   "id": "747438a3",
   "metadata": {
    "execution": {
     "iopub.execute_input": "2023-07-29T16:10:14.543123Z",
     "iopub.status.busy": "2023-07-29T16:10:14.542343Z",
     "iopub.status.idle": "2023-07-29T16:10:14.547898Z",
     "shell.execute_reply": "2023-07-29T16:10:14.546737Z"
    },
    "papermill": {
     "duration": 0.015964,
     "end_time": "2023-07-29T16:10:14.550425",
     "exception": false,
     "start_time": "2023-07-29T16:10:14.534461",
     "status": "completed"
    },
    "tags": []
   },
   "outputs": [],
   "source": [
    "path=\"../input/fake-and-real-news-dataset\""
   ]
  },
  {
   "cell_type": "code",
   "execution_count": 6,
   "id": "04bcaec2",
   "metadata": {
    "execution": {
     "iopub.execute_input": "2023-07-29T16:10:14.565389Z",
     "iopub.status.busy": "2023-07-29T16:10:14.564947Z",
     "iopub.status.idle": "2023-07-29T16:10:17.285424Z",
     "shell.execute_reply": "2023-07-29T16:10:17.284225Z"
    },
    "papermill": {
     "duration": 2.731157,
     "end_time": "2023-07-29T16:10:17.288400",
     "exception": false,
     "start_time": "2023-07-29T16:10:14.557243",
     "status": "completed"
    },
    "tags": []
   },
   "outputs": [],
   "source": [
    "def reading_data(data=\"data\"):\n",
    "    \"\"\" \n",
    "    __Description__: Function to read data from the path\n",
    "    _args_: \n",
    "        Data : The path to the csv files\n",
    "    \"\"\"\n",
    "    \n",
    "    true=pd.read_csv(f\"{data}/True.csv\")\n",
    "    fake=pd.read_csv(f\"{data}/Fake.csv\")\n",
    "    return true,fake\n",
    "\n",
    "true_data,fake_data=reading_data(path)"
   ]
  },
  {
   "cell_type": "code",
   "execution_count": 7,
   "id": "e745dff1",
   "metadata": {
    "execution": {
     "iopub.execute_input": "2023-07-29T16:10:17.303889Z",
     "iopub.status.busy": "2023-07-29T16:10:17.302702Z",
     "iopub.status.idle": "2023-07-29T16:10:17.328877Z",
     "shell.execute_reply": "2023-07-29T16:10:17.327655Z"
    },
    "papermill": {
     "duration": 0.036707,
     "end_time": "2023-07-29T16:10:17.331705",
     "exception": false,
     "start_time": "2023-07-29T16:10:17.294998",
     "status": "completed"
    },
    "tags": []
   },
   "outputs": [
    {
     "data": {
      "text/html": [
       "<div>\n",
       "<style scoped>\n",
       "    .dataframe tbody tr th:only-of-type {\n",
       "        vertical-align: middle;\n",
       "    }\n",
       "\n",
       "    .dataframe tbody tr th {\n",
       "        vertical-align: top;\n",
       "    }\n",
       "\n",
       "    .dataframe thead th {\n",
       "        text-align: right;\n",
       "    }\n",
       "</style>\n",
       "<table border=\"1\" class=\"dataframe\">\n",
       "  <thead>\n",
       "    <tr style=\"text-align: right;\">\n",
       "      <th></th>\n",
       "      <th>title</th>\n",
       "      <th>text</th>\n",
       "      <th>subject</th>\n",
       "      <th>date</th>\n",
       "    </tr>\n",
       "  </thead>\n",
       "  <tbody>\n",
       "    <tr>\n",
       "      <th>0</th>\n",
       "      <td>As U.S. budget fight looms, Republicans flip t...</td>\n",
       "      <td>WASHINGTON (Reuters) - The head of a conservat...</td>\n",
       "      <td>politicsNews</td>\n",
       "      <td>December 31, 2017</td>\n",
       "    </tr>\n",
       "    <tr>\n",
       "      <th>1</th>\n",
       "      <td>U.S. military to accept transgender recruits o...</td>\n",
       "      <td>WASHINGTON (Reuters) - Transgender people will...</td>\n",
       "      <td>politicsNews</td>\n",
       "      <td>December 29, 2017</td>\n",
       "    </tr>\n",
       "    <tr>\n",
       "      <th>2</th>\n",
       "      <td>Senior U.S. Republican senator: 'Let Mr. Muell...</td>\n",
       "      <td>WASHINGTON (Reuters) - The special counsel inv...</td>\n",
       "      <td>politicsNews</td>\n",
       "      <td>December 31, 2017</td>\n",
       "    </tr>\n",
       "    <tr>\n",
       "      <th>3</th>\n",
       "      <td>FBI Russia probe helped by Australian diplomat...</td>\n",
       "      <td>WASHINGTON (Reuters) - Trump campaign adviser ...</td>\n",
       "      <td>politicsNews</td>\n",
       "      <td>December 30, 2017</td>\n",
       "    </tr>\n",
       "    <tr>\n",
       "      <th>4</th>\n",
       "      <td>Trump wants Postal Service to charge 'much mor...</td>\n",
       "      <td>SEATTLE/WASHINGTON (Reuters) - President Donal...</td>\n",
       "      <td>politicsNews</td>\n",
       "      <td>December 29, 2017</td>\n",
       "    </tr>\n",
       "  </tbody>\n",
       "</table>\n",
       "</div>"
      ],
      "text/plain": [
       "                                               title  \\\n",
       "0  As U.S. budget fight looms, Republicans flip t...   \n",
       "1  U.S. military to accept transgender recruits o...   \n",
       "2  Senior U.S. Republican senator: 'Let Mr. Muell...   \n",
       "3  FBI Russia probe helped by Australian diplomat...   \n",
       "4  Trump wants Postal Service to charge 'much mor...   \n",
       "\n",
       "                                                text       subject  \\\n",
       "0  WASHINGTON (Reuters) - The head of a conservat...  politicsNews   \n",
       "1  WASHINGTON (Reuters) - Transgender people will...  politicsNews   \n",
       "2  WASHINGTON (Reuters) - The special counsel inv...  politicsNews   \n",
       "3  WASHINGTON (Reuters) - Trump campaign adviser ...  politicsNews   \n",
       "4  SEATTLE/WASHINGTON (Reuters) - President Donal...  politicsNews   \n",
       "\n",
       "                 date  \n",
       "0  December 31, 2017   \n",
       "1  December 29, 2017   \n",
       "2  December 31, 2017   \n",
       "3  December 30, 2017   \n",
       "4  December 29, 2017   "
      ]
     },
     "execution_count": 7,
     "metadata": {},
     "output_type": "execute_result"
    }
   ],
   "source": [
    "true_data.head()"
   ]
  },
  {
   "cell_type": "code",
   "execution_count": 8,
   "id": "7d25eec0",
   "metadata": {
    "execution": {
     "iopub.execute_input": "2023-07-29T16:10:17.347125Z",
     "iopub.status.busy": "2023-07-29T16:10:17.346703Z",
     "iopub.status.idle": "2023-07-29T16:10:17.359656Z",
     "shell.execute_reply": "2023-07-29T16:10:17.358750Z"
    },
    "papermill": {
     "duration": 0.023436,
     "end_time": "2023-07-29T16:10:17.361929",
     "exception": false,
     "start_time": "2023-07-29T16:10:17.338493",
     "status": "completed"
    },
    "tags": []
   },
   "outputs": [
    {
     "data": {
      "text/html": [
       "<div>\n",
       "<style scoped>\n",
       "    .dataframe tbody tr th:only-of-type {\n",
       "        vertical-align: middle;\n",
       "    }\n",
       "\n",
       "    .dataframe tbody tr th {\n",
       "        vertical-align: top;\n",
       "    }\n",
       "\n",
       "    .dataframe thead th {\n",
       "        text-align: right;\n",
       "    }\n",
       "</style>\n",
       "<table border=\"1\" class=\"dataframe\">\n",
       "  <thead>\n",
       "    <tr style=\"text-align: right;\">\n",
       "      <th></th>\n",
       "      <th>title</th>\n",
       "      <th>text</th>\n",
       "      <th>subject</th>\n",
       "      <th>date</th>\n",
       "    </tr>\n",
       "  </thead>\n",
       "  <tbody>\n",
       "    <tr>\n",
       "      <th>0</th>\n",
       "      <td>Donald Trump Sends Out Embarrassing New Year’...</td>\n",
       "      <td>Donald Trump just couldn t wish all Americans ...</td>\n",
       "      <td>News</td>\n",
       "      <td>December 31, 2017</td>\n",
       "    </tr>\n",
       "    <tr>\n",
       "      <th>1</th>\n",
       "      <td>Drunk Bragging Trump Staffer Started Russian ...</td>\n",
       "      <td>House Intelligence Committee Chairman Devin Nu...</td>\n",
       "      <td>News</td>\n",
       "      <td>December 31, 2017</td>\n",
       "    </tr>\n",
       "    <tr>\n",
       "      <th>2</th>\n",
       "      <td>Sheriff David Clarke Becomes An Internet Joke...</td>\n",
       "      <td>On Friday, it was revealed that former Milwauk...</td>\n",
       "      <td>News</td>\n",
       "      <td>December 30, 2017</td>\n",
       "    </tr>\n",
       "    <tr>\n",
       "      <th>3</th>\n",
       "      <td>Trump Is So Obsessed He Even Has Obama’s Name...</td>\n",
       "      <td>On Christmas day, Donald Trump announced that ...</td>\n",
       "      <td>News</td>\n",
       "      <td>December 29, 2017</td>\n",
       "    </tr>\n",
       "    <tr>\n",
       "      <th>4</th>\n",
       "      <td>Pope Francis Just Called Out Donald Trump Dur...</td>\n",
       "      <td>Pope Francis used his annual Christmas Day mes...</td>\n",
       "      <td>News</td>\n",
       "      <td>December 25, 2017</td>\n",
       "    </tr>\n",
       "  </tbody>\n",
       "</table>\n",
       "</div>"
      ],
      "text/plain": [
       "                                               title  \\\n",
       "0   Donald Trump Sends Out Embarrassing New Year’...   \n",
       "1   Drunk Bragging Trump Staffer Started Russian ...   \n",
       "2   Sheriff David Clarke Becomes An Internet Joke...   \n",
       "3   Trump Is So Obsessed He Even Has Obama’s Name...   \n",
       "4   Pope Francis Just Called Out Donald Trump Dur...   \n",
       "\n",
       "                                                text subject  \\\n",
       "0  Donald Trump just couldn t wish all Americans ...    News   \n",
       "1  House Intelligence Committee Chairman Devin Nu...    News   \n",
       "2  On Friday, it was revealed that former Milwauk...    News   \n",
       "3  On Christmas day, Donald Trump announced that ...    News   \n",
       "4  Pope Francis used his annual Christmas Day mes...    News   \n",
       "\n",
       "                date  \n",
       "0  December 31, 2017  \n",
       "1  December 31, 2017  \n",
       "2  December 30, 2017  \n",
       "3  December 29, 2017  \n",
       "4  December 25, 2017  "
      ]
     },
     "execution_count": 8,
     "metadata": {},
     "output_type": "execute_result"
    }
   ],
   "source": [
    "fake_data.head()"
   ]
  },
  {
   "cell_type": "code",
   "execution_count": 9,
   "id": "90e19a85",
   "metadata": {
    "execution": {
     "iopub.execute_input": "2023-07-29T16:10:17.377854Z",
     "iopub.status.busy": "2023-07-29T16:10:17.377472Z",
     "iopub.status.idle": "2023-07-29T16:10:17.474785Z",
     "shell.execute_reply": "2023-07-29T16:10:17.473639Z"
    },
    "papermill": {
     "duration": 0.108386,
     "end_time": "2023-07-29T16:10:17.477674",
     "exception": false,
     "start_time": "2023-07-29T16:10:17.369288",
     "status": "completed"
    },
    "tags": []
   },
   "outputs": [
    {
     "name": "stdout",
     "output_type": "stream",
     "text": [
      "<class 'pandas.core.frame.DataFrame'>\n",
      "RangeIndex: 21417 entries, 0 to 21416\n",
      "Data columns (total 4 columns):\n",
      " #   Column   Non-Null Count  Dtype \n",
      "---  ------   --------------  ----- \n",
      " 0   title    21417 non-null  object\n",
      " 1   text     21417 non-null  object\n",
      " 2   subject  21417 non-null  object\n",
      " 3   date     21417 non-null  object\n",
      "dtypes: object(4)\n",
      "memory usage: 669.4+ KB\n",
      "\n",
      "<class 'pandas.core.frame.DataFrame'>\n",
      "RangeIndex: 23481 entries, 0 to 23480\n",
      "Data columns (total 4 columns):\n",
      " #   Column   Non-Null Count  Dtype \n",
      "---  ------   --------------  ----- \n",
      " 0   title    23481 non-null  object\n",
      " 1   text     23481 non-null  object\n",
      " 2   subject  23481 non-null  object\n",
      " 3   date     23481 non-null  object\n",
      "dtypes: object(4)\n",
      "memory usage: 733.9+ KB\n"
     ]
    },
    {
     "data": {
      "text/plain": [
       "(None, None, None)"
      ]
     },
     "execution_count": 9,
     "metadata": {},
     "output_type": "execute_result"
    }
   ],
   "source": [
    "true_data.info(),\\\n",
    "print(\"\"),\\\n",
    "fake_data.info()"
   ]
  },
  {
   "cell_type": "code",
   "execution_count": 10,
   "id": "e88e8b78",
   "metadata": {
    "execution": {
     "iopub.execute_input": "2023-07-29T16:10:17.493783Z",
     "iopub.status.busy": "2023-07-29T16:10:17.493385Z",
     "iopub.status.idle": "2023-07-29T16:10:17.503404Z",
     "shell.execute_reply": "2023-07-29T16:10:17.502214Z"
    },
    "papermill": {
     "duration": 0.020953,
     "end_time": "2023-07-29T16:10:17.505780",
     "exception": false,
     "start_time": "2023-07-29T16:10:17.484827",
     "status": "completed"
    },
    "tags": []
   },
   "outputs": [
    {
     "name": "stdout",
     "output_type": "stream",
     "text": [
      "['politicsNews' 'worldnews'] ['News' 'politics' 'Government News' 'left-news' 'US_News' 'Middle-east']\n"
     ]
    }
   ],
   "source": [
    "tdata_subjects=true_data[\"subject\"].unique()\n",
    "fdata_subjects=fake_data[\"subject\"].unique()\n",
    "print(tdata_subjects,fdata_subjects)"
   ]
  },
  {
   "cell_type": "code",
   "execution_count": 11,
   "id": "e22ad9e3",
   "metadata": {
    "execution": {
     "iopub.execute_input": "2023-07-29T16:10:17.523637Z",
     "iopub.status.busy": "2023-07-29T16:10:17.523243Z",
     "iopub.status.idle": "2023-07-29T16:10:17.570634Z",
     "shell.execute_reply": "2023-07-29T16:10:17.569530Z"
    },
    "papermill": {
     "duration": 0.059017,
     "end_time": "2023-07-29T16:10:17.573308",
     "exception": false,
     "start_time": "2023-07-29T16:10:17.514291",
     "status": "completed"
    },
    "tags": []
   },
   "outputs": [],
   "source": [
    "def true_subjects_count(news_type,col=\"subject\"):\n",
    "    news_dict={}\n",
    "    for news in news_type:\n",
    "        news_dict[news]=len(true_data[true_data[col]==news])\n",
    "    return news_dict\n",
    "def fake_subjects_count(news_type,col=\"subject\"):\n",
    "    news_dict={}\n",
    "    for news in news_type:\n",
    "        news_dict[news]=len(fake_data[fake_data[col]==news])\n",
    "    return news_dict\n",
    "\n",
    "true_news_count=true_subjects_count(tdata_subjects)\n",
    "fake_news_types=fake_subjects_count(fdata_subjects)"
   ]
  },
  {
   "cell_type": "code",
   "execution_count": 12,
   "id": "ca53205a",
   "metadata": {
    "execution": {
     "iopub.execute_input": "2023-07-29T16:10:17.589913Z",
     "iopub.status.busy": "2023-07-29T16:10:17.589173Z",
     "iopub.status.idle": "2023-07-29T16:10:17.598632Z",
     "shell.execute_reply": "2023-07-29T16:10:17.597220Z"
    },
    "papermill": {
     "duration": 0.020284,
     "end_time": "2023-07-29T16:10:17.600870",
     "exception": false,
     "start_time": "2023-07-29T16:10:17.580586",
     "status": "completed"
    },
    "tags": []
   },
   "outputs": [
    {
     "name": "stdout",
     "output_type": "stream",
     "text": [
      "There is a total in news type of 11272 politicsNews which are true\n",
      "There is a total in news type of 10145 worldnews which are true\n",
      "\n",
      "There is a total of news type 9050 News which are fake\n",
      "There is a total of news type 6841 politics which are fake\n",
      "There is a total of news type 1570 Government News which are fake\n",
      "There is a total of news type 4459 left-news which are fake\n",
      "There is a total of news type 783 US_News which are fake\n",
      "There is a total of news type 778 Middle-east which are fake\n"
     ]
    },
    {
     "data": {
      "text/plain": [
       "{None}"
      ]
     },
     "execution_count": 12,
     "metadata": {},
     "output_type": "execute_result"
    }
   ],
   "source": [
    "{print(f\"There is a total in news type of {v} {k} which are true\") for k,v in true_news_count.items()}\n",
    "print()\n",
    "{print(f\"There is a total of news type {v} {k} which are fake\") for k,v in fake_news_types.items()}"
   ]
  },
  {
   "cell_type": "code",
   "execution_count": 13,
   "id": "ab6ef1f3",
   "metadata": {
    "execution": {
     "iopub.execute_input": "2023-07-29T16:10:17.618625Z",
     "iopub.status.busy": "2023-07-29T16:10:17.617521Z",
     "iopub.status.idle": "2023-07-29T16:10:17.624499Z",
     "shell.execute_reply": "2023-07-29T16:10:17.623707Z"
    },
    "papermill": {
     "duration": 0.01804,
     "end_time": "2023-07-29T16:10:17.626889",
     "exception": false,
     "start_time": "2023-07-29T16:10:17.608849",
     "status": "completed"
    },
    "tags": []
   },
   "outputs": [
    {
     "name": "stdout",
     "output_type": "stream",
     "text": [
      "(21417, 5) (23481, 5)\n"
     ]
    }
   ],
   "source": [
    "true_data[\"News Type\"]=\"Real\"\n",
    "fake_data[\"News Type\"]=\"Fake\"\n",
    "print(true_data.shape,fake_data.shape)"
   ]
  },
  {
   "cell_type": "code",
   "execution_count": 14,
   "id": "41b06e00",
   "metadata": {
    "execution": {
     "iopub.execute_input": "2023-07-29T16:10:17.644809Z",
     "iopub.status.busy": "2023-07-29T16:10:17.643940Z",
     "iopub.status.idle": "2023-07-29T16:10:17.651845Z",
     "shell.execute_reply": "2023-07-29T16:10:17.650736Z"
    },
    "papermill": {
     "duration": 0.019343,
     "end_time": "2023-07-29T16:10:17.654301",
     "exception": false,
     "start_time": "2023-07-29T16:10:17.634958",
     "status": "completed"
    },
    "tags": []
   },
   "outputs": [
    {
     "data": {
      "text/plain": [
       "Index(['title', 'text', 'subject', 'date', 'News Type'], dtype='object')"
      ]
     },
     "execution_count": 14,
     "metadata": {},
     "output_type": "execute_result"
    }
   ],
   "source": [
    "true_data.columns"
   ]
  },
  {
   "cell_type": "code",
   "execution_count": 15,
   "id": "46fdc4c7",
   "metadata": {
    "execution": {
     "iopub.execute_input": "2023-07-29T16:10:17.672000Z",
     "iopub.status.busy": "2023-07-29T16:10:17.671617Z",
     "iopub.status.idle": "2023-07-29T16:10:17.902194Z",
     "shell.execute_reply": "2023-07-29T16:10:17.901014Z"
    },
    "papermill": {
     "duration": 0.242673,
     "end_time": "2023-07-29T16:10:17.904906",
     "exception": false,
     "start_time": "2023-07-29T16:10:17.662233",
     "status": "completed"
    },
    "tags": []
   },
   "outputs": [
    {
     "data": {
      "text/html": [
       "<div>\n",
       "<style scoped>\n",
       "    .dataframe tbody tr th:only-of-type {\n",
       "        vertical-align: middle;\n",
       "    }\n",
       "\n",
       "    .dataframe tbody tr th {\n",
       "        vertical-align: top;\n",
       "    }\n",
       "\n",
       "    .dataframe thead th {\n",
       "        text-align: right;\n",
       "    }\n",
       "</style>\n",
       "<table border=\"1\" class=\"dataframe\">\n",
       "  <thead>\n",
       "    <tr style=\"text-align: right;\">\n",
       "      <th></th>\n",
       "      <th>title</th>\n",
       "      <th>text</th>\n",
       "      <th>subject</th>\n",
       "      <th>date</th>\n",
       "      <th>News Type</th>\n",
       "    </tr>\n",
       "  </thead>\n",
       "  <tbody>\n",
       "    <tr>\n",
       "      <th>0</th>\n",
       "      <td>Obama Oversees Record Stock Market Results De...</td>\n",
       "      <td>For more than seven years now the right-wing l...</td>\n",
       "      <td>News</td>\n",
       "      <td>April 20, 2016</td>\n",
       "      <td>Fake</td>\n",
       "    </tr>\n",
       "    <tr>\n",
       "      <th>1</th>\n",
       "      <td>NBA CRYBABY COACH Worries About President-Elec...</td>\n",
       "      <td>It turns out the hypocrite, liberal, Golden S...</td>\n",
       "      <td>politics</td>\n",
       "      <td>Nov 20, 2016</td>\n",
       "      <td>Fake</td>\n",
       "    </tr>\n",
       "    <tr>\n",
       "      <th>2</th>\n",
       "      <td>In Trump/Clinton face-off on Monday, winning o...</td>\n",
       "      <td>WASHINGTON (Reuters) - When Donald Trump and H...</td>\n",
       "      <td>politicsNews</td>\n",
       "      <td>September 23, 2016</td>\n",
       "      <td>Real</td>\n",
       "    </tr>\n",
       "    <tr>\n",
       "      <th>3</th>\n",
       "      <td>KEITH SCOTT’S BROTHER Tells Charlotte Reporter...</td>\n",
       "      <td>The first Black (and half White) President has...</td>\n",
       "      <td>politics</td>\n",
       "      <td>Sep 23, 2016</td>\n",
       "      <td>Fake</td>\n",
       "    </tr>\n",
       "    <tr>\n",
       "      <th>4</th>\n",
       "      <td>As Trump meets biotech CEOs, farm advisers fre...</td>\n",
       "      <td>CHICAGO (Reuters) - U.S. President-elect Donal...</td>\n",
       "      <td>politicsNews</td>\n",
       "      <td>January 12, 2017</td>\n",
       "      <td>Real</td>\n",
       "    </tr>\n",
       "    <tr>\n",
       "      <th>...</th>\n",
       "      <td>...</td>\n",
       "      <td>...</td>\n",
       "      <td>...</td>\n",
       "      <td>...</td>\n",
       "      <td>...</td>\n",
       "    </tr>\n",
       "    <tr>\n",
       "      <th>44893</th>\n",
       "      <td>U.S. tax reform poses more risks for state and...</td>\n",
       "      <td>CHICAGO/NEW YORK (Reuters) - State and local g...</td>\n",
       "      <td>politicsNews</td>\n",
       "      <td>November 15, 2017</td>\n",
       "      <td>Real</td>\n",
       "    </tr>\n",
       "    <tr>\n",
       "      <th>44894</th>\n",
       "      <td>Man with Palestinian flag smashes Jewish resta...</td>\n",
       "      <td>AMSTERDAM (Reuters) - A man with a Palestinian...</td>\n",
       "      <td>worldnews</td>\n",
       "      <td>December 7, 2017</td>\n",
       "      <td>Real</td>\n",
       "    </tr>\n",
       "    <tr>\n",
       "      <th>44895</th>\n",
       "      <td>Trump Went ‘BALLISTIC’ When Sessions Recused ...</td>\n",
       "      <td>Donald Trump reportedly flew into a fit of rag...</td>\n",
       "      <td>News</td>\n",
       "      <td>March 4, 2017</td>\n",
       "      <td>Fake</td>\n",
       "    </tr>\n",
       "    <tr>\n",
       "      <th>44896</th>\n",
       "      <td>John McCain’s Opponent Sees Donations Pour In...</td>\n",
       "      <td>This is why John McCain really regretted blami...</td>\n",
       "      <td>News</td>\n",
       "      <td>June 18, 2016</td>\n",
       "      <td>Fake</td>\n",
       "    </tr>\n",
       "    <tr>\n",
       "      <th>44897</th>\n",
       "      <td>U.S. and China align over North Korea sanction...</td>\n",
       "      <td>WASHINGTON (Reuters) - The White House said on...</td>\n",
       "      <td>politicsNews</td>\n",
       "      <td>February 25, 2016</td>\n",
       "      <td>Real</td>\n",
       "    </tr>\n",
       "  </tbody>\n",
       "</table>\n",
       "<p>44898 rows × 5 columns</p>\n",
       "</div>"
      ],
      "text/plain": [
       "                                                   title  \\\n",
       "0       Obama Oversees Record Stock Market Results De...   \n",
       "1      NBA CRYBABY COACH Worries About President-Elec...   \n",
       "2      In Trump/Clinton face-off on Monday, winning o...   \n",
       "3      KEITH SCOTT’S BROTHER Tells Charlotte Reporter...   \n",
       "4      As Trump meets biotech CEOs, farm advisers fre...   \n",
       "...                                                  ...   \n",
       "44893  U.S. tax reform poses more risks for state and...   \n",
       "44894  Man with Palestinian flag smashes Jewish resta...   \n",
       "44895   Trump Went ‘BALLISTIC’ When Sessions Recused ...   \n",
       "44896   John McCain’s Opponent Sees Donations Pour In...   \n",
       "44897  U.S. and China align over North Korea sanction...   \n",
       "\n",
       "                                                    text       subject  \\\n",
       "0      For more than seven years now the right-wing l...          News   \n",
       "1       It turns out the hypocrite, liberal, Golden S...      politics   \n",
       "2      WASHINGTON (Reuters) - When Donald Trump and H...  politicsNews   \n",
       "3      The first Black (and half White) President has...      politics   \n",
       "4      CHICAGO (Reuters) - U.S. President-elect Donal...  politicsNews   \n",
       "...                                                  ...           ...   \n",
       "44893  CHICAGO/NEW YORK (Reuters) - State and local g...  politicsNews   \n",
       "44894  AMSTERDAM (Reuters) - A man with a Palestinian...     worldnews   \n",
       "44895  Donald Trump reportedly flew into a fit of rag...          News   \n",
       "44896  This is why John McCain really regretted blami...          News   \n",
       "44897  WASHINGTON (Reuters) - The White House said on...  politicsNews   \n",
       "\n",
       "                      date News Type  \n",
       "0           April 20, 2016      Fake  \n",
       "1             Nov 20, 2016      Fake  \n",
       "2      September 23, 2016       Real  \n",
       "3             Sep 23, 2016      Fake  \n",
       "4        January 12, 2017       Real  \n",
       "...                    ...       ...  \n",
       "44893   November 15, 2017       Real  \n",
       "44894    December 7, 2017       Real  \n",
       "44895        March 4, 2017      Fake  \n",
       "44896        June 18, 2016      Fake  \n",
       "44897   February 25, 2016       Real  \n",
       "\n",
       "[44898 rows x 5 columns]"
      ]
     },
     "execution_count": 15,
     "metadata": {},
     "output_type": "execute_result"
    }
   ],
   "source": [
    "merged_data=pd.merge(true_data,fake_data,on=list(true_data.columns),how='outer')\n",
    "merged_data=merged_data.sample(frac=1).reset_index(drop=True)\n",
    "merged_data"
   ]
  },
  {
   "cell_type": "markdown",
   "id": "93319ebc",
   "metadata": {
    "papermill": {
     "duration": 0.007832,
     "end_time": "2023-07-29T16:10:17.921417",
     "exception": false,
     "start_time": "2023-07-29T16:10:17.913585",
     "status": "completed"
    },
    "tags": []
   },
   "source": [
    "<h2>Modeling</h2>"
   ]
  },
  {
   "cell_type": "code",
   "execution_count": null,
   "id": "0ac792de",
   "metadata": {
    "papermill": {
     "duration": 0.008018,
     "end_time": "2023-07-29T16:10:17.937689",
     "exception": false,
     "start_time": "2023-07-29T16:10:17.929671",
     "status": "completed"
    },
    "tags": []
   },
   "outputs": [],
   "source": []
  }
 ],
 "metadata": {
  "kernelspec": {
   "display_name": "Python 3",
   "language": "python",
   "name": "python3"
  },
  "language_info": {
   "codemirror_mode": {
    "name": "ipython",
    "version": 3
   },
   "file_extension": ".py",
   "mimetype": "text/x-python",
   "name": "python",
   "nbconvert_exporter": "python",
   "pygments_lexer": "ipython3",
   "version": "3.10.12"
  },
  "papermill": {
   "default_parameters": {},
   "duration": 30.699572,
   "end_time": "2023-07-29T16:10:20.072753",
   "environment_variables": {},
   "exception": null,
   "input_path": "__notebook__.ipynb",
   "output_path": "__notebook__.ipynb",
   "parameters": {},
   "start_time": "2023-07-29T16:09:49.373181",
   "version": "2.4.0"
  }
 },
 "nbformat": 4,
 "nbformat_minor": 5
}
