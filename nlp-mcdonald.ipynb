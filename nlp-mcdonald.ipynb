{
 "cells": [
  {
   "cell_type": "code",
   "execution_count": 1,
   "id": "e3ce4b9e",
   "metadata": {
    "execution": {
     "iopub.execute_input": "2023-07-18T14:10:45.922703Z",
     "iopub.status.busy": "2023-07-18T14:10:45.922279Z",
     "iopub.status.idle": "2023-07-18T14:10:45.947724Z",
     "shell.execute_reply": "2023-07-18T14:10:45.946612Z"
    },
    "papermill": {
     "duration": 0.035341,
     "end_time": "2023-07-18T14:10:45.950348",
     "exception": false,
     "start_time": "2023-07-18T14:10:45.915007",
     "status": "completed"
    },
    "tags": []
   },
   "outputs": [
    {
     "name": "stdout",
     "output_type": "stream",
     "text": [
      "/kaggle/input/mcdonalds-store-reviews/McDonald_s_Reviews.csv\n"
     ]
    }
   ],
   "source": [
    "import os\n",
    "for dirname, _, filenames in os.walk('/kaggle/input'):\n",
    "    for filename in filenames:\n",
    "        print(os.path.join(dirname, filename))"
   ]
  },
  {
   "cell_type": "code",
   "execution_count": 2,
   "id": "dd349ee8",
   "metadata": {
    "_cell_guid": "b1076dfc-b9ad-4769-8c92-a6c4dae69d19",
    "_uuid": "8f2839f25d086af736a60e9eeb907d3b93b6e0e5",
    "execution": {
     "iopub.execute_input": "2023-07-18T14:10:45.961657Z",
     "iopub.status.busy": "2023-07-18T14:10:45.961283Z",
     "iopub.status.idle": "2023-07-18T14:10:56.978765Z",
     "shell.execute_reply": "2023-07-18T14:10:56.977407Z"
    },
    "papermill": {
     "duration": 11.026676,
     "end_time": "2023-07-18T14:10:56.981981",
     "exception": false,
     "start_time": "2023-07-18T14:10:45.955305",
     "status": "completed"
    },
    "tags": []
   },
   "outputs": [
    {
     "name": "stderr",
     "output_type": "stream",
     "text": [
      "/opt/conda/lib/python3.10/site-packages/scipy/__init__.py:146: UserWarning: A NumPy version >=1.16.5 and <1.23.0 is required for this version of SciPy (detected version 1.23.5\n",
      "  warnings.warn(f\"A NumPy version >={np_minversion} and <{np_maxversion}\"\n",
      "/opt/conda/lib/python3.10/site-packages/tensorflow_io/python/ops/__init__.py:98: UserWarning: unable to load libtensorflow_io_plugins.so: unable to open file: libtensorflow_io_plugins.so, from paths: ['/opt/conda/lib/python3.10/site-packages/tensorflow_io/python/ops/libtensorflow_io_plugins.so']\n",
      "caused by: ['/opt/conda/lib/python3.10/site-packages/tensorflow_io/python/ops/libtensorflow_io_plugins.so: undefined symbol: _ZN3tsl6StatusC1EN10tensorflow5error4CodeESt17basic_string_viewIcSt11char_traitsIcEENS_14SourceLocationE']\n",
      "  warnings.warn(f\"unable to load libtensorflow_io_plugins.so: {e}\")\n",
      "/opt/conda/lib/python3.10/site-packages/tensorflow_io/python/ops/__init__.py:104: UserWarning: file system plugins are not loaded: unable to open file: libtensorflow_io.so, from paths: ['/opt/conda/lib/python3.10/site-packages/tensorflow_io/python/ops/libtensorflow_io.so']\n",
      "caused by: ['/opt/conda/lib/python3.10/site-packages/tensorflow_io/python/ops/libtensorflow_io.so: undefined symbol: _ZTVN10tensorflow13GcsFileSystemE']\n",
      "  warnings.warn(f\"file system plugins are not loaded: {e}\")\n"
     ]
    }
   ],
   "source": [
    "from tqdm import tqdm\n",
    "import numpy as np \n",
    "import pandas as pd \n",
    "import matplotlib.pyplot as plt\n",
    "import seaborn as sns\n",
    "\n",
    "from tensorflow.keras.preprocessing.text import Tokenizer\n",
    "from tensorflow.keras.preprocessing.sequence import pad_sequences\n",
    "from tensorflow.keras.layers import Dense,LSTM,Bidirectional\n",
    "\n",
    "path=\"../input/mcdonalds-store-reviews/McDonald_s_Reviews.csv\""
   ]
  },
  {
   "cell_type": "code",
   "execution_count": 3,
   "id": "c1560b2d",
   "metadata": {
    "execution": {
     "iopub.execute_input": "2023-07-18T14:10:56.994979Z",
     "iopub.status.busy": "2023-07-18T14:10:56.994125Z",
     "iopub.status.idle": "2023-07-18T14:10:57.353456Z",
     "shell.execute_reply": "2023-07-18T14:10:57.352052Z"
    },
    "papermill": {
     "duration": 0.369182,
     "end_time": "2023-07-18T14:10:57.356287",
     "exception": false,
     "start_time": "2023-07-18T14:10:56.987105",
     "status": "completed"
    },
    "tags": []
   },
   "outputs": [
    {
     "data": {
      "text/html": [
       "<div>\n",
       "<style scoped>\n",
       "    .dataframe tbody tr th:only-of-type {\n",
       "        vertical-align: middle;\n",
       "    }\n",
       "\n",
       "    .dataframe tbody tr th {\n",
       "        vertical-align: top;\n",
       "    }\n",
       "\n",
       "    .dataframe thead th {\n",
       "        text-align: right;\n",
       "    }\n",
       "</style>\n",
       "<table border=\"1\" class=\"dataframe\">\n",
       "  <thead>\n",
       "    <tr style=\"text-align: right;\">\n",
       "      <th></th>\n",
       "      <th>reviewer_id</th>\n",
       "      <th>store_name</th>\n",
       "      <th>category</th>\n",
       "      <th>store_address</th>\n",
       "      <th>latitude</th>\n",
       "      <th>longitude</th>\n",
       "      <th>rating_count</th>\n",
       "      <th>review_time</th>\n",
       "      <th>review</th>\n",
       "      <th>rating</th>\n",
       "    </tr>\n",
       "  </thead>\n",
       "  <tbody>\n",
       "    <tr>\n",
       "      <th>0</th>\n",
       "      <td>1</td>\n",
       "      <td>McDonald's</td>\n",
       "      <td>Fast food restaurant</td>\n",
       "      <td>13749 US-183 Hwy, Austin, TX 78750, United States</td>\n",
       "      <td>30.460718</td>\n",
       "      <td>-97.792874</td>\n",
       "      <td>1,240</td>\n",
       "      <td>3 months ago</td>\n",
       "      <td>Why does it look like someone spit on my food?...</td>\n",
       "      <td>1 star</td>\n",
       "    </tr>\n",
       "    <tr>\n",
       "      <th>1</th>\n",
       "      <td>2</td>\n",
       "      <td>McDonald's</td>\n",
       "      <td>Fast food restaurant</td>\n",
       "      <td>13749 US-183 Hwy, Austin, TX 78750, United States</td>\n",
       "      <td>30.460718</td>\n",
       "      <td>-97.792874</td>\n",
       "      <td>1,240</td>\n",
       "      <td>5 days ago</td>\n",
       "      <td>It'd McDonalds. It is what it is as far as the...</td>\n",
       "      <td>4 stars</td>\n",
       "    </tr>\n",
       "    <tr>\n",
       "      <th>2</th>\n",
       "      <td>3</td>\n",
       "      <td>McDonald's</td>\n",
       "      <td>Fast food restaurant</td>\n",
       "      <td>13749 US-183 Hwy, Austin, TX 78750, United States</td>\n",
       "      <td>30.460718</td>\n",
       "      <td>-97.792874</td>\n",
       "      <td>1,240</td>\n",
       "      <td>5 days ago</td>\n",
       "      <td>Made a mobile order got to the speaker and che...</td>\n",
       "      <td>1 star</td>\n",
       "    </tr>\n",
       "    <tr>\n",
       "      <th>3</th>\n",
       "      <td>4</td>\n",
       "      <td>McDonald's</td>\n",
       "      <td>Fast food restaurant</td>\n",
       "      <td>13749 US-183 Hwy, Austin, TX 78750, United States</td>\n",
       "      <td>30.460718</td>\n",
       "      <td>-97.792874</td>\n",
       "      <td>1,240</td>\n",
       "      <td>a month ago</td>\n",
       "      <td>My mc. Crispy chicken sandwich was ï¿½ï¿½ï¿½ï¿...</td>\n",
       "      <td>5 stars</td>\n",
       "    </tr>\n",
       "    <tr>\n",
       "      <th>4</th>\n",
       "      <td>5</td>\n",
       "      <td>McDonald's</td>\n",
       "      <td>Fast food restaurant</td>\n",
       "      <td>13749 US-183 Hwy, Austin, TX 78750, United States</td>\n",
       "      <td>30.460718</td>\n",
       "      <td>-97.792874</td>\n",
       "      <td>1,240</td>\n",
       "      <td>2 months ago</td>\n",
       "      <td>I repeat my order 3 times in the drive thru, a...</td>\n",
       "      <td>1 star</td>\n",
       "    </tr>\n",
       "  </tbody>\n",
       "</table>\n",
       "</div>"
      ],
      "text/plain": [
       "   reviewer_id  store_name              category  \\\n",
       "0            1  McDonald's  Fast food restaurant   \n",
       "1            2  McDonald's  Fast food restaurant   \n",
       "2            3  McDonald's  Fast food restaurant   \n",
       "3            4  McDonald's  Fast food restaurant   \n",
       "4            5  McDonald's  Fast food restaurant   \n",
       "\n",
       "                                       store_address  latitude   longitude  \\\n",
       "0  13749 US-183 Hwy, Austin, TX 78750, United States  30.460718 -97.792874   \n",
       "1  13749 US-183 Hwy, Austin, TX 78750, United States  30.460718 -97.792874   \n",
       "2  13749 US-183 Hwy, Austin, TX 78750, United States  30.460718 -97.792874   \n",
       "3  13749 US-183 Hwy, Austin, TX 78750, United States  30.460718 -97.792874   \n",
       "4  13749 US-183 Hwy, Austin, TX 78750, United States  30.460718 -97.792874   \n",
       "\n",
       "  rating_count   review_time  \\\n",
       "0        1,240  3 months ago   \n",
       "1        1,240    5 days ago   \n",
       "2        1,240    5 days ago   \n",
       "3        1,240   a month ago   \n",
       "4        1,240  2 months ago   \n",
       "\n",
       "                                              review   rating  \n",
       "0  Why does it look like someone spit on my food?...   1 star  \n",
       "1  It'd McDonalds. It is what it is as far as the...  4 stars  \n",
       "2  Made a mobile order got to the speaker and che...   1 star  \n",
       "3  My mc. Crispy chicken sandwich was ï¿½ï¿½ï¿½ï¿...  5 stars  \n",
       "4  I repeat my order 3 times in the drive thru, a...   1 star  "
      ]
     },
     "execution_count": 3,
     "metadata": {},
     "output_type": "execute_result"
    }
   ],
   "source": [
    "data=pd.read_csv(path,encoding=\"ISO-8859-1\")\n",
    "data.head()"
   ]
  },
  {
   "cell_type": "code",
   "execution_count": 4,
   "id": "deb8f26b",
   "metadata": {
    "execution": {
     "iopub.execute_input": "2023-07-18T14:10:57.368939Z",
     "iopub.status.busy": "2023-07-18T14:10:57.368185Z",
     "iopub.status.idle": "2023-07-18T14:10:57.482889Z",
     "shell.execute_reply": "2023-07-18T14:10:57.481537Z"
    },
    "papermill": {
     "duration": 0.124084,
     "end_time": "2023-07-18T14:10:57.485683",
     "exception": false,
     "start_time": "2023-07-18T14:10:57.361599",
     "status": "completed"
    },
    "tags": []
   },
   "outputs": [
    {
     "name": "stdout",
     "output_type": "stream",
     "text": [
      "<class 'pandas.core.frame.DataFrame'>\n",
      "RangeIndex: 33396 entries, 0 to 33395\n",
      "Data columns (total 10 columns):\n",
      " #   Column         Non-Null Count  Dtype  \n",
      "---  ------         --------------  -----  \n",
      " 0   reviewer_id    33396 non-null  int64  \n",
      " 1   store_name     33396 non-null  object \n",
      " 2   category       33396 non-null  object \n",
      " 3   store_address  33396 non-null  object \n",
      " 4   latitude       32736 non-null  float64\n",
      " 5   longitude      32736 non-null  float64\n",
      " 6   rating_count   33396 non-null  object \n",
      " 7   review_time    33396 non-null  object \n",
      " 8   review         33396 non-null  object \n",
      " 9   rating         33396 non-null  object \n",
      "dtypes: float64(2), int64(1), object(7)\n",
      "memory usage: 2.5+ MB\n"
     ]
    }
   ],
   "source": [
    "data.info()"
   ]
  },
  {
   "cell_type": "code",
   "execution_count": 5,
   "id": "ac5ae2c4",
   "metadata": {
    "execution": {
     "iopub.execute_input": "2023-07-18T14:10:57.498627Z",
     "iopub.status.busy": "2023-07-18T14:10:57.498210Z",
     "iopub.status.idle": "2023-07-18T14:10:57.504595Z",
     "shell.execute_reply": "2023-07-18T14:10:57.503515Z"
    },
    "papermill": {
     "duration": 0.015879,
     "end_time": "2023-07-18T14:10:57.507108",
     "exception": false,
     "start_time": "2023-07-18T14:10:57.491229",
     "status": "completed"
    },
    "tags": []
   },
   "outputs": [],
   "source": [
    "data.rename(columns={\"latitude \":\"latitude\",\"longitude \":\"longitude\"},inplace=True)"
   ]
  },
  {
   "cell_type": "code",
   "execution_count": 6,
   "id": "032bb03c",
   "metadata": {
    "execution": {
     "iopub.execute_input": "2023-07-18T14:10:57.519914Z",
     "iopub.status.busy": "2023-07-18T14:10:57.519495Z",
     "iopub.status.idle": "2023-07-18T14:10:57.607863Z",
     "shell.execute_reply": "2023-07-18T14:10:57.606699Z"
    },
    "papermill": {
     "duration": 0.097646,
     "end_time": "2023-07-18T14:10:57.610318",
     "exception": false,
     "start_time": "2023-07-18T14:10:57.512672",
     "status": "completed"
    },
    "tags": []
   },
   "outputs": [
    {
     "name": "stdout",
     "output_type": "stream",
     "text": [
      "There is a number of 1320 of missing data.\n"
     ]
    }
   ],
   "source": [
    "print(f\"There is a number of {data.isna().sum().sum()} of missing data.\")"
   ]
  },
  {
   "cell_type": "code",
   "execution_count": 7,
   "id": "41a7ea9d",
   "metadata": {
    "execution": {
     "iopub.execute_input": "2023-07-18T14:10:57.623107Z",
     "iopub.status.busy": "2023-07-18T14:10:57.622670Z",
     "iopub.status.idle": "2023-07-18T14:10:57.693279Z",
     "shell.execute_reply": "2023-07-18T14:10:57.692187Z"
    },
    "papermill": {
     "duration": 0.080764,
     "end_time": "2023-07-18T14:10:57.696580",
     "exception": false,
     "start_time": "2023-07-18T14:10:57.615816",
     "status": "completed"
    },
    "tags": []
   },
   "outputs": [
    {
     "name": "stdout",
     "output_type": "stream",
     "text": [
      "The store_name column has 0 of missing data\n",
      "The category column has 0 of missing data\n",
      "The store_address column has 0 of missing data\n",
      "The latitude column has 0 of missing data\n",
      "The longitude column has 0 of missing data\n",
      "The rating_count column has 0 of missing data\n",
      "The review_time column has 0 of missing data\n",
      "The review column has 0 of missing data\n",
      "The rating column has 0 of missing data\n"
     ]
    }
   ],
   "source": [
    "cols=data.columns[1:]\n",
    "for col in cols:\n",
    "    if data[col].isna().sum()>1:\n",
    "        data[col].fillna(method=\"ffill\",inplace=True)\n",
    "    print(f\"The {col} column has {data[col].isna().sum()} of missing data\")"
   ]
  },
  {
   "cell_type": "code",
   "execution_count": 8,
   "id": "1ea92c3a",
   "metadata": {
    "execution": {
     "iopub.execute_input": "2023-07-18T14:10:57.709818Z",
     "iopub.status.busy": "2023-07-18T14:10:57.709278Z",
     "iopub.status.idle": "2023-07-18T14:10:57.751797Z",
     "shell.execute_reply": "2023-07-18T14:10:57.750694Z"
    },
    "papermill": {
     "duration": 0.05277,
     "end_time": "2023-07-18T14:10:57.755021",
     "exception": false,
     "start_time": "2023-07-18T14:10:57.702251",
     "status": "completed"
    },
    "tags": []
   },
   "outputs": [],
   "source": [
    "data[\"store_name\"].unique()\n",
    "data[\"store_name\"].rename(index={\"ýýýMcDonald's\":\"McDonald's\"},inplace=True)"
   ]
  },
  {
   "cell_type": "code",
   "execution_count": 9,
   "id": "229fa339",
   "metadata": {
    "execution": {
     "iopub.execute_input": "2023-07-18T14:10:57.768214Z",
     "iopub.status.busy": "2023-07-18T14:10:57.767769Z",
     "iopub.status.idle": "2023-07-18T14:10:57.940257Z",
     "shell.execute_reply": "2023-07-18T14:10:57.939006Z"
    },
    "papermill": {
     "duration": 0.182368,
     "end_time": "2023-07-18T14:10:57.943088",
     "exception": false,
     "start_time": "2023-07-18T14:10:57.760720",
     "status": "completed"
    },
    "tags": []
   },
   "outputs": [],
   "source": [
    "rows={\"1 star\":1,\"2 stars\":2,\"3 stars\":3,\"4 stars\":4,\"5 stars\":5}\n",
    "data.replace(rows,inplace=True)"
   ]
  },
  {
   "cell_type": "code",
   "execution_count": 10,
   "id": "0ea6ac0b",
   "metadata": {
    "execution": {
     "iopub.execute_input": "2023-07-18T14:10:57.956252Z",
     "iopub.status.busy": "2023-07-18T14:10:57.955828Z",
     "iopub.status.idle": "2023-07-18T14:10:57.961188Z",
     "shell.execute_reply": "2023-07-18T14:10:57.960001Z"
    },
    "papermill": {
     "duration": 0.014899,
     "end_time": "2023-07-18T14:10:57.963593",
     "exception": false,
     "start_time": "2023-07-18T14:10:57.948694",
     "status": "completed"
    },
    "tags": []
   },
   "outputs": [],
   "source": [
    "corpus=data[\"review\"]\n",
    "labels=data[\"rating\"]"
   ]
  },
  {
   "cell_type": "code",
   "execution_count": null,
   "id": "9ccff9e4",
   "metadata": {
    "execution": {
     "iopub.execute_input": "2023-07-18T14:07:54.938057Z",
     "iopub.status.busy": "2023-07-18T14:07:54.937585Z",
     "iopub.status.idle": "2023-07-18T14:07:54.950068Z",
     "shell.execute_reply": "2023-07-18T14:07:54.948485Z",
     "shell.execute_reply.started": "2023-07-18T14:07:54.938015Z"
    },
    "papermill": {
     "duration": 0.005211,
     "end_time": "2023-07-18T14:10:57.974472",
     "exception": false,
     "start_time": "2023-07-18T14:10:57.969261",
     "status": "completed"
    },
    "tags": []
   },
   "outputs": [],
   "source": []
  }
 ],
 "metadata": {
  "kernelspec": {
   "display_name": "Python 3",
   "language": "python",
   "name": "python3"
  },
  "language_info": {
   "codemirror_mode": {
    "name": "ipython",
    "version": 3
   },
   "file_extension": ".py",
   "mimetype": "text/x-python",
   "name": "python",
   "nbconvert_exporter": "python",
   "pygments_lexer": "ipython3",
   "version": "3.10.12"
  },
  "papermill": {
   "default_parameters": {},
   "duration": 26.816455,
   "end_time": "2023-07-18T14:11:00.499456",
   "environment_variables": {},
   "exception": null,
   "input_path": "__notebook__.ipynb",
   "output_path": "__notebook__.ipynb",
   "parameters": {},
   "start_time": "2023-07-18T14:10:33.683001",
   "version": "2.4.0"
  }
 },
 "nbformat": 4,
 "nbformat_minor": 5
}
