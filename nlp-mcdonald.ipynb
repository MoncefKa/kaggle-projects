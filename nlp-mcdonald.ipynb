{
 "cells": [
  {
   "cell_type": "code",
   "execution_count": 1,
   "id": "1706c1b6",
   "metadata": {
    "execution": {
     "iopub.execute_input": "2023-07-21T12:57:53.184842Z",
     "iopub.status.busy": "2023-07-21T12:57:53.184359Z",
     "iopub.status.idle": "2023-07-21T12:57:53.206144Z",
     "shell.execute_reply": "2023-07-21T12:57:53.205360Z"
    },
    "papermill": {
     "duration": 0.029166,
     "end_time": "2023-07-21T12:57:53.208058",
     "exception": false,
     "start_time": "2023-07-21T12:57:53.178892",
     "status": "completed"
    },
    "tags": []
   },
   "outputs": [
    {
     "name": "stdout",
     "output_type": "stream",
     "text": [
      "/kaggle/input/mcdonalds-store-reviews/McDonald_s_Reviews.csv\n"
     ]
    }
   ],
   "source": [
    "import os\n",
    "for dirname, _, filenames in os.walk('/kaggle/input'):\n",
    "    for filename in filenames:\n",
    "        print(os.path.join(dirname, filename))"
   ]
  },
  {
   "cell_type": "code",
   "execution_count": 2,
   "id": "69006924",
   "metadata": {
    "_cell_guid": "b1076dfc-b9ad-4769-8c92-a6c4dae69d19",
    "_uuid": "8f2839f25d086af736a60e9eeb907d3b93b6e0e5",
    "execution": {
     "iopub.execute_input": "2023-07-21T12:57:53.216887Z",
     "iopub.status.busy": "2023-07-21T12:57:53.216108Z",
     "iopub.status.idle": "2023-07-21T12:58:03.258467Z",
     "shell.execute_reply": "2023-07-21T12:58:03.257540Z"
    },
    "papermill": {
     "duration": 10.049063,
     "end_time": "2023-07-21T12:58:03.260784",
     "exception": false,
     "start_time": "2023-07-21T12:57:53.211721",
     "status": "completed"
    },
    "tags": []
   },
   "outputs": [
    {
     "name": "stderr",
     "output_type": "stream",
     "text": [
      "/opt/conda/lib/python3.10/site-packages/scipy/__init__.py:146: UserWarning: A NumPy version >=1.16.5 and <1.23.0 is required for this version of SciPy (detected version 1.23.5\n",
      "  warnings.warn(f\"A NumPy version >={np_minversion} and <{np_maxversion}\"\n",
      "/opt/conda/lib/python3.10/site-packages/tensorflow_io/python/ops/__init__.py:98: UserWarning: unable to load libtensorflow_io_plugins.so: unable to open file: libtensorflow_io_plugins.so, from paths: ['/opt/conda/lib/python3.10/site-packages/tensorflow_io/python/ops/libtensorflow_io_plugins.so']\n",
      "caused by: ['/opt/conda/lib/python3.10/site-packages/tensorflow_io/python/ops/libtensorflow_io_plugins.so: undefined symbol: _ZN3tsl6StatusC1EN10tensorflow5error4CodeESt17basic_string_viewIcSt11char_traitsIcEENS_14SourceLocationE']\n",
      "  warnings.warn(f\"unable to load libtensorflow_io_plugins.so: {e}\")\n",
      "/opt/conda/lib/python3.10/site-packages/tensorflow_io/python/ops/__init__.py:104: UserWarning: file system plugins are not loaded: unable to open file: libtensorflow_io.so, from paths: ['/opt/conda/lib/python3.10/site-packages/tensorflow_io/python/ops/libtensorflow_io.so']\n",
      "caused by: ['/opt/conda/lib/python3.10/site-packages/tensorflow_io/python/ops/libtensorflow_io.so: undefined symbol: _ZTVN10tensorflow13GcsFileSystemE']\n",
      "  warnings.warn(f\"file system plugins are not loaded: {e}\")\n"
     ]
    }
   ],
   "source": [
    "import numpy as np \n",
    "import pandas as pd \n",
    "import matplotlib.pyplot as plt\n",
    "import seaborn as sns\n",
    "from sklearn.model_selection import train_test_split\n",
    "from tensorflow.keras import Sequential\n",
    "from tensorflow.keras.preprocessing.text import Tokenizer\n",
    "from tensorflow.keras.preprocessing.sequence import pad_sequences\n",
    "from tensorflow.keras.layers import Dense,Bidirectional,Embedding,Conv1D,GlobalAveragePooling1D,Flatten,GRU,LSTM\n",
    "from tensorflow.keras.utils import to_categorical"
   ]
  },
  {
   "cell_type": "code",
   "execution_count": 3,
   "id": "b76d39a4",
   "metadata": {
    "execution": {
     "iopub.execute_input": "2023-07-21T12:58:03.269162Z",
     "iopub.status.busy": "2023-07-21T12:58:03.268513Z",
     "iopub.status.idle": "2023-07-21T12:58:03.272758Z",
     "shell.execute_reply": "2023-07-21T12:58:03.272006Z"
    },
    "papermill": {
     "duration": 0.010004,
     "end_time": "2023-07-21T12:58:03.274374",
     "exception": false,
     "start_time": "2023-07-21T12:58:03.264370",
     "status": "completed"
    },
    "tags": []
   },
   "outputs": [],
   "source": [
    "path=\"../input/mcdonalds-store-reviews/McDonald_s_Reviews.csv\""
   ]
  },
  {
   "cell_type": "code",
   "execution_count": 4,
   "id": "d06bac87",
   "metadata": {
    "execution": {
     "iopub.execute_input": "2023-07-21T12:58:03.282372Z",
     "iopub.status.busy": "2023-07-21T12:58:03.282118Z",
     "iopub.status.idle": "2023-07-21T12:58:03.517561Z",
     "shell.execute_reply": "2023-07-21T12:58:03.516414Z"
    },
    "papermill": {
     "duration": 0.241908,
     "end_time": "2023-07-21T12:58:03.519649",
     "exception": false,
     "start_time": "2023-07-21T12:58:03.277741",
     "status": "completed"
    },
    "tags": []
   },
   "outputs": [
    {
     "data": {
      "text/html": [
       "<div>\n",
       "<style scoped>\n",
       "    .dataframe tbody tr th:only-of-type {\n",
       "        vertical-align: middle;\n",
       "    }\n",
       "\n",
       "    .dataframe tbody tr th {\n",
       "        vertical-align: top;\n",
       "    }\n",
       "\n",
       "    .dataframe thead th {\n",
       "        text-align: right;\n",
       "    }\n",
       "</style>\n",
       "<table border=\"1\" class=\"dataframe\">\n",
       "  <thead>\n",
       "    <tr style=\"text-align: right;\">\n",
       "      <th></th>\n",
       "      <th>reviewer_id</th>\n",
       "      <th>store_name</th>\n",
       "      <th>category</th>\n",
       "      <th>store_address</th>\n",
       "      <th>latitude</th>\n",
       "      <th>longitude</th>\n",
       "      <th>rating_count</th>\n",
       "      <th>review_time</th>\n",
       "      <th>review</th>\n",
       "      <th>rating</th>\n",
       "    </tr>\n",
       "  </thead>\n",
       "  <tbody>\n",
       "    <tr>\n",
       "      <th>0</th>\n",
       "      <td>1</td>\n",
       "      <td>McDonald's</td>\n",
       "      <td>Fast food restaurant</td>\n",
       "      <td>13749 US-183 Hwy, Austin, TX 78750, United States</td>\n",
       "      <td>30.460718</td>\n",
       "      <td>-97.792874</td>\n",
       "      <td>1,240</td>\n",
       "      <td>3 months ago</td>\n",
       "      <td>Why does it look like someone spit on my food?...</td>\n",
       "      <td>1 star</td>\n",
       "    </tr>\n",
       "    <tr>\n",
       "      <th>1</th>\n",
       "      <td>2</td>\n",
       "      <td>McDonald's</td>\n",
       "      <td>Fast food restaurant</td>\n",
       "      <td>13749 US-183 Hwy, Austin, TX 78750, United States</td>\n",
       "      <td>30.460718</td>\n",
       "      <td>-97.792874</td>\n",
       "      <td>1,240</td>\n",
       "      <td>5 days ago</td>\n",
       "      <td>It'd McDonalds. It is what it is as far as the...</td>\n",
       "      <td>4 stars</td>\n",
       "    </tr>\n",
       "    <tr>\n",
       "      <th>2</th>\n",
       "      <td>3</td>\n",
       "      <td>McDonald's</td>\n",
       "      <td>Fast food restaurant</td>\n",
       "      <td>13749 US-183 Hwy, Austin, TX 78750, United States</td>\n",
       "      <td>30.460718</td>\n",
       "      <td>-97.792874</td>\n",
       "      <td>1,240</td>\n",
       "      <td>5 days ago</td>\n",
       "      <td>Made a mobile order got to the speaker and che...</td>\n",
       "      <td>1 star</td>\n",
       "    </tr>\n",
       "    <tr>\n",
       "      <th>3</th>\n",
       "      <td>4</td>\n",
       "      <td>McDonald's</td>\n",
       "      <td>Fast food restaurant</td>\n",
       "      <td>13749 US-183 Hwy, Austin, TX 78750, United States</td>\n",
       "      <td>30.460718</td>\n",
       "      <td>-97.792874</td>\n",
       "      <td>1,240</td>\n",
       "      <td>a month ago</td>\n",
       "      <td>My mc. Crispy chicken sandwich was ï¿½ï¿½ï¿½ï¿...</td>\n",
       "      <td>5 stars</td>\n",
       "    </tr>\n",
       "    <tr>\n",
       "      <th>4</th>\n",
       "      <td>5</td>\n",
       "      <td>McDonald's</td>\n",
       "      <td>Fast food restaurant</td>\n",
       "      <td>13749 US-183 Hwy, Austin, TX 78750, United States</td>\n",
       "      <td>30.460718</td>\n",
       "      <td>-97.792874</td>\n",
       "      <td>1,240</td>\n",
       "      <td>2 months ago</td>\n",
       "      <td>I repeat my order 3 times in the drive thru, a...</td>\n",
       "      <td>1 star</td>\n",
       "    </tr>\n",
       "  </tbody>\n",
       "</table>\n",
       "</div>"
      ],
      "text/plain": [
       "   reviewer_id  store_name              category  \\\n",
       "0            1  McDonald's  Fast food restaurant   \n",
       "1            2  McDonald's  Fast food restaurant   \n",
       "2            3  McDonald's  Fast food restaurant   \n",
       "3            4  McDonald's  Fast food restaurant   \n",
       "4            5  McDonald's  Fast food restaurant   \n",
       "\n",
       "                                       store_address  latitude   longitude  \\\n",
       "0  13749 US-183 Hwy, Austin, TX 78750, United States  30.460718 -97.792874   \n",
       "1  13749 US-183 Hwy, Austin, TX 78750, United States  30.460718 -97.792874   \n",
       "2  13749 US-183 Hwy, Austin, TX 78750, United States  30.460718 -97.792874   \n",
       "3  13749 US-183 Hwy, Austin, TX 78750, United States  30.460718 -97.792874   \n",
       "4  13749 US-183 Hwy, Austin, TX 78750, United States  30.460718 -97.792874   \n",
       "\n",
       "  rating_count   review_time  \\\n",
       "0        1,240  3 months ago   \n",
       "1        1,240    5 days ago   \n",
       "2        1,240    5 days ago   \n",
       "3        1,240   a month ago   \n",
       "4        1,240  2 months ago   \n",
       "\n",
       "                                              review   rating  \n",
       "0  Why does it look like someone spit on my food?...   1 star  \n",
       "1  It'd McDonalds. It is what it is as far as the...  4 stars  \n",
       "2  Made a mobile order got to the speaker and che...   1 star  \n",
       "3  My mc. Crispy chicken sandwich was ï¿½ï¿½ï¿½ï¿...  5 stars  \n",
       "4  I repeat my order 3 times in the drive thru, a...   1 star  "
      ]
     },
     "execution_count": 4,
     "metadata": {},
     "output_type": "execute_result"
    }
   ],
   "source": [
    "data=pd.read_csv(path,encoding=\"ISO-8859-1\")\n",
    "data.head()"
   ]
  },
  {
   "cell_type": "code",
   "execution_count": 5,
   "id": "47dfb77f",
   "metadata": {
    "execution": {
     "iopub.execute_input": "2023-07-21T12:58:03.529564Z",
     "iopub.status.busy": "2023-07-21T12:58:03.529203Z",
     "iopub.status.idle": "2023-07-21T12:58:03.584655Z",
     "shell.execute_reply": "2023-07-21T12:58:03.583974Z"
    },
    "papermill": {
     "duration": 0.06262,
     "end_time": "2023-07-21T12:58:03.586322",
     "exception": false,
     "start_time": "2023-07-21T12:58:03.523702",
     "status": "completed"
    },
    "tags": []
   },
   "outputs": [
    {
     "name": "stdout",
     "output_type": "stream",
     "text": [
      "<class 'pandas.core.frame.DataFrame'>\n",
      "RangeIndex: 33396 entries, 0 to 33395\n",
      "Data columns (total 10 columns):\n",
      " #   Column         Non-Null Count  Dtype  \n",
      "---  ------         --------------  -----  \n",
      " 0   reviewer_id    33396 non-null  int64  \n",
      " 1   store_name     33396 non-null  object \n",
      " 2   category       33396 non-null  object \n",
      " 3   store_address  33396 non-null  object \n",
      " 4   latitude       32736 non-null  float64\n",
      " 5   longitude      32736 non-null  float64\n",
      " 6   rating_count   33396 non-null  object \n",
      " 7   review_time    33396 non-null  object \n",
      " 8   review         33396 non-null  object \n",
      " 9   rating         33396 non-null  object \n",
      "dtypes: float64(2), int64(1), object(7)\n",
      "memory usage: 2.5+ MB\n"
     ]
    }
   ],
   "source": [
    "data.info()"
   ]
  },
  {
   "cell_type": "code",
   "execution_count": 6,
   "id": "f701145c",
   "metadata": {
    "execution": {
     "iopub.execute_input": "2023-07-21T12:58:03.595102Z",
     "iopub.status.busy": "2023-07-21T12:58:03.594303Z",
     "iopub.status.idle": "2023-07-21T12:58:03.601474Z",
     "shell.execute_reply": "2023-07-21T12:58:03.600789Z"
    },
    "papermill": {
     "duration": 0.012832,
     "end_time": "2023-07-21T12:58:03.602927",
     "exception": false,
     "start_time": "2023-07-21T12:58:03.590095",
     "status": "completed"
    },
    "tags": []
   },
   "outputs": [
    {
     "data": {
      "text/plain": [
       "array(['1 star', '4 stars', '5 stars', '2 stars', '3 stars'], dtype=object)"
      ]
     },
     "execution_count": 6,
     "metadata": {},
     "output_type": "execute_result"
    }
   ],
   "source": [
    "data[\"rating\"].unique()"
   ]
  },
  {
   "cell_type": "code",
   "execution_count": 7,
   "id": "40885b11",
   "metadata": {
    "execution": {
     "iopub.execute_input": "2023-07-21T12:58:03.611834Z",
     "iopub.status.busy": "2023-07-21T12:58:03.611298Z",
     "iopub.status.idle": "2023-07-21T12:58:03.691027Z",
     "shell.execute_reply": "2023-07-21T12:58:03.689618Z"
    },
    "papermill": {
     "duration": 0.087161,
     "end_time": "2023-07-21T12:58:03.693788",
     "exception": false,
     "start_time": "2023-07-21T12:58:03.606627",
     "status": "completed"
    },
    "tags": []
   },
   "outputs": [
    {
     "data": {
      "text/html": [
       "<div>\n",
       "<style scoped>\n",
       "    .dataframe tbody tr th:only-of-type {\n",
       "        vertical-align: middle;\n",
       "    }\n",
       "\n",
       "    .dataframe tbody tr th {\n",
       "        vertical-align: top;\n",
       "    }\n",
       "\n",
       "    .dataframe thead th {\n",
       "        text-align: right;\n",
       "    }\n",
       "</style>\n",
       "<table border=\"1\" class=\"dataframe\">\n",
       "  <thead>\n",
       "    <tr style=\"text-align: right;\">\n",
       "      <th></th>\n",
       "      <th>reviewer_id</th>\n",
       "      <th>store_name</th>\n",
       "      <th>category</th>\n",
       "      <th>store_address</th>\n",
       "      <th>latitude</th>\n",
       "      <th>longitude</th>\n",
       "      <th>rating_count</th>\n",
       "      <th>review_time</th>\n",
       "      <th>review</th>\n",
       "      <th>rating</th>\n",
       "    </tr>\n",
       "  </thead>\n",
       "  <tbody>\n",
       "    <tr>\n",
       "      <th>0</th>\n",
       "      <td>1</td>\n",
       "      <td>McDonald's</td>\n",
       "      <td>Fast food restaurant</td>\n",
       "      <td>13749 US-183 Hwy, Austin, TX 78750, United States</td>\n",
       "      <td>30.460718</td>\n",
       "      <td>-97.792874</td>\n",
       "      <td>1,240</td>\n",
       "      <td>3 months ago</td>\n",
       "      <td>Why does it look like someone spit on my food?...</td>\n",
       "      <td>Terrible</td>\n",
       "    </tr>\n",
       "    <tr>\n",
       "      <th>1</th>\n",
       "      <td>2</td>\n",
       "      <td>McDonald's</td>\n",
       "      <td>Fast food restaurant</td>\n",
       "      <td>13749 US-183 Hwy, Austin, TX 78750, United States</td>\n",
       "      <td>30.460718</td>\n",
       "      <td>-97.792874</td>\n",
       "      <td>1,240</td>\n",
       "      <td>5 days ago</td>\n",
       "      <td>It'd McDonalds. It is what it is as far as the...</td>\n",
       "      <td>Good</td>\n",
       "    </tr>\n",
       "    <tr>\n",
       "      <th>2</th>\n",
       "      <td>3</td>\n",
       "      <td>McDonald's</td>\n",
       "      <td>Fast food restaurant</td>\n",
       "      <td>13749 US-183 Hwy, Austin, TX 78750, United States</td>\n",
       "      <td>30.460718</td>\n",
       "      <td>-97.792874</td>\n",
       "      <td>1,240</td>\n",
       "      <td>5 days ago</td>\n",
       "      <td>Made a mobile order got to the speaker and che...</td>\n",
       "      <td>Terrible</td>\n",
       "    </tr>\n",
       "    <tr>\n",
       "      <th>3</th>\n",
       "      <td>4</td>\n",
       "      <td>McDonald's</td>\n",
       "      <td>Fast food restaurant</td>\n",
       "      <td>13749 US-183 Hwy, Austin, TX 78750, United States</td>\n",
       "      <td>30.460718</td>\n",
       "      <td>-97.792874</td>\n",
       "      <td>1,240</td>\n",
       "      <td>a month ago</td>\n",
       "      <td>My mc. Crispy chicken sandwich was ï¿½ï¿½ï¿½ï¿...</td>\n",
       "      <td>Excellent</td>\n",
       "    </tr>\n",
       "    <tr>\n",
       "      <th>4</th>\n",
       "      <td>5</td>\n",
       "      <td>McDonald's</td>\n",
       "      <td>Fast food restaurant</td>\n",
       "      <td>13749 US-183 Hwy, Austin, TX 78750, United States</td>\n",
       "      <td>30.460718</td>\n",
       "      <td>-97.792874</td>\n",
       "      <td>1,240</td>\n",
       "      <td>2 months ago</td>\n",
       "      <td>I repeat my order 3 times in the drive thru, a...</td>\n",
       "      <td>Terrible</td>\n",
       "    </tr>\n",
       "  </tbody>\n",
       "</table>\n",
       "</div>"
      ],
      "text/plain": [
       "   reviewer_id  store_name              category  \\\n",
       "0            1  McDonald's  Fast food restaurant   \n",
       "1            2  McDonald's  Fast food restaurant   \n",
       "2            3  McDonald's  Fast food restaurant   \n",
       "3            4  McDonald's  Fast food restaurant   \n",
       "4            5  McDonald's  Fast food restaurant   \n",
       "\n",
       "                                       store_address  latitude   longitude  \\\n",
       "0  13749 US-183 Hwy, Austin, TX 78750, United States  30.460718 -97.792874   \n",
       "1  13749 US-183 Hwy, Austin, TX 78750, United States  30.460718 -97.792874   \n",
       "2  13749 US-183 Hwy, Austin, TX 78750, United States  30.460718 -97.792874   \n",
       "3  13749 US-183 Hwy, Austin, TX 78750, United States  30.460718 -97.792874   \n",
       "4  13749 US-183 Hwy, Austin, TX 78750, United States  30.460718 -97.792874   \n",
       "\n",
       "  rating_count   review_time  \\\n",
       "0        1,240  3 months ago   \n",
       "1        1,240    5 days ago   \n",
       "2        1,240    5 days ago   \n",
       "3        1,240   a month ago   \n",
       "4        1,240  2 months ago   \n",
       "\n",
       "                                              review     rating  \n",
       "0  Why does it look like someone spit on my food?...   Terrible  \n",
       "1  It'd McDonalds. It is what it is as far as the...       Good  \n",
       "2  Made a mobile order got to the speaker and che...   Terrible  \n",
       "3  My mc. Crispy chicken sandwich was ï¿½ï¿½ï¿½ï¿...  Excellent  \n",
       "4  I repeat my order 3 times in the drive thru, a...   Terrible  "
      ]
     },
     "execution_count": 7,
     "metadata": {},
     "output_type": "execute_result"
    }
   ],
   "source": [
    "ratings={\"1 star\":\"Terrible\",\"2 stars\":\"Bad\",\"3 stars\":\"Neutral\",\"4 stars\":\"Good\",\"5 stars\":\"Excellent\"}\n",
    "data.replace(ratings,inplace=True)\n",
    "data.head()"
   ]
  },
  {
   "cell_type": "code",
   "execution_count": 8,
   "id": "3d3e8c4c",
   "metadata": {
    "execution": {
     "iopub.execute_input": "2023-07-21T12:58:03.704714Z",
     "iopub.status.busy": "2023-07-21T12:58:03.703529Z",
     "iopub.status.idle": "2023-07-21T12:58:03.735835Z",
     "shell.execute_reply": "2023-07-21T12:58:03.734760Z"
    },
    "papermill": {
     "duration": 0.040324,
     "end_time": "2023-07-21T12:58:03.738515",
     "exception": false,
     "start_time": "2023-07-21T12:58:03.698191",
     "status": "completed"
    },
    "tags": []
   },
   "outputs": [],
   "source": [
    "corpus=[word.lower().split(\"\\n\") for word in data[\"review\"]]\n",
    "labels=data[\"rating\"].values"
   ]
  },
  {
   "cell_type": "code",
   "execution_count": 9,
   "id": "6ed353c0",
   "metadata": {
    "execution": {
     "iopub.execute_input": "2023-07-21T12:58:03.748689Z",
     "iopub.status.busy": "2023-07-21T12:58:03.748298Z",
     "iopub.status.idle": "2023-07-21T12:58:03.764221Z",
     "shell.execute_reply": "2023-07-21T12:58:03.762840Z"
    },
    "papermill": {
     "duration": 0.023567,
     "end_time": "2023-07-21T12:58:03.766480",
     "exception": false,
     "start_time": "2023-07-21T12:58:03.742913",
     "status": "completed"
    },
    "tags": []
   },
   "outputs": [],
   "source": [
    "train_corpus,test_corpus,train_label,test_label=train_test_split(corpus,labels,test_size=0.3,random_state=42)"
   ]
  },
  {
   "cell_type": "code",
   "execution_count": 10,
   "id": "1fad8715",
   "metadata": {
    "execution": {
     "iopub.execute_input": "2023-07-21T12:58:03.776512Z",
     "iopub.status.busy": "2023-07-21T12:58:03.776185Z",
     "iopub.status.idle": "2023-07-21T12:58:03.780694Z",
     "shell.execute_reply": "2023-07-21T12:58:03.779853Z"
    },
    "papermill": {
     "duration": 0.011945,
     "end_time": "2023-07-21T12:58:03.782775",
     "exception": false,
     "start_time": "2023-07-21T12:58:03.770830",
     "status": "completed"
    },
    "tags": []
   },
   "outputs": [
    {
     "name": "stdout",
     "output_type": "stream",
     "text": [
      "[['i went today, 11:15am, asked for the free big mac/maccoin, they said, they were not authorized, 08/02/2018'], ['slowest mcds in the entire state of florida!!! stay away unless you want to waste time in the drive-thur'], ['horrible service fire the b,i,t,c,h'], ['this place really should be shut down. if they can\\'t deliver in customer service just close.  i ordered with them and waited for 45 minutes.  i asked them after 10 minutes about my order and they said it\\'s coming up.  after 20 minutes i ask again about my order and the supervisor tells me \"one at a time, i can\\'t skip your order in front of other people\".  she then proceeds to continue skipping my order to serve other people.  at 45 minutes i asked again and she finds my order on a table and says to her coworker they never made it.   nobody gave an apology or acknowledged they were in the wrong.  if you can\\'t run a restaurant correctly then please just shut down.  there are countless pictures on their reviews of cars piling up and terrible customer service.'], [\"i have an 8 year old lady, a 7 year old and a 3 year old. mickey d's is apart of their life whether i like it or not, and its convenient. so chicken nugget me to death.\"]] ['Excellent' 'Terrible' 'Terrible' 'Terrible' 'Good']\n"
     ]
    }
   ],
   "source": [
    "print(train_corpus[:5],train_label[:5])"
   ]
  },
  {
   "cell_type": "code",
   "execution_count": 11,
   "id": "019ad39b",
   "metadata": {
    "execution": {
     "iopub.execute_input": "2023-07-21T12:58:03.791929Z",
     "iopub.status.busy": "2023-07-21T12:58:03.791677Z",
     "iopub.status.idle": "2023-07-21T12:58:04.007668Z",
     "shell.execute_reply": "2023-07-21T12:58:04.006548Z"
    },
    "papermill": {
     "duration": 0.22302,
     "end_time": "2023-07-21T12:58:04.009953",
     "exception": false,
     "start_time": "2023-07-21T12:58:03.786933",
     "status": "completed"
    },
    "tags": []
   },
   "outputs": [],
   "source": [
    "tokenizer=Tokenizer(num_words=10000,oov_token='OOV')\n",
    "tokenizer.fit_on_texts(train_corpus)\n",
    "train_cor=tokenizer.texts_to_sequences(train_corpus)\n",
    "test_cor=tokenizer.texts_to_sequences(test_corpus)\n",
    "\n",
    "padded_train=pad_sequences(train_cor,padding=\"pre\",maxlen=max([len(_) for _ in train_cor]))\n",
    "padded_test=pad_sequences(test_cor,padding=\"pre\",maxlen=max([len(_) for _ in test_cor]))"
   ]
  },
  {
   "cell_type": "code",
   "execution_count": 12,
   "id": "0b1cffb9",
   "metadata": {
    "execution": {
     "iopub.execute_input": "2023-07-21T12:58:04.022581Z",
     "iopub.status.busy": "2023-07-21T12:58:04.022199Z",
     "iopub.status.idle": "2023-07-21T12:58:04.027890Z",
     "shell.execute_reply": "2023-07-21T12:58:04.026845Z"
    },
    "papermill": {
     "duration": 0.014856,
     "end_time": "2023-07-21T12:58:04.029805",
     "exception": false,
     "start_time": "2023-07-21T12:58:04.014949",
     "status": "completed"
    },
    "tags": []
   },
   "outputs": [
    {
     "name": "stdout",
     "output_type": "stream",
     "text": [
      "Shape of training data are (23377, 20) for the text data and (23377,) for the labels\n",
      "Shape of test data are (10019, 16) for the text data and (10019,) for the labels\n"
     ]
    }
   ],
   "source": [
    "print(f\"Shape of training data are {padded_train.shape} for the text data and {train_label.shape} for the labels\")\n",
    "print(f\"Shape of test data are {padded_test.shape} for the text data and {test_label.shape} for the labels\")"
   ]
  },
  {
   "cell_type": "code",
   "execution_count": 13,
   "id": "1ed710af",
   "metadata": {
    "execution": {
     "iopub.execute_input": "2023-07-21T12:58:04.039382Z",
     "iopub.status.busy": "2023-07-21T12:58:04.039039Z",
     "iopub.status.idle": "2023-07-21T12:58:04.147033Z",
     "shell.execute_reply": "2023-07-21T12:58:04.145669Z"
    },
    "papermill": {
     "duration": 0.115772,
     "end_time": "2023-07-21T12:58:04.149810",
     "exception": false,
     "start_time": "2023-07-21T12:58:04.034038",
     "status": "completed"
    },
    "tags": []
   },
   "outputs": [],
   "source": [
    "model=Sequential()\n"
   ]
  }
 ],
 "metadata": {
  "kernelspec": {
   "display_name": "Python 3",
   "language": "python",
   "name": "python3"
  },
  "language_info": {
   "codemirror_mode": {
    "name": "ipython",
    "version": 3
   },
   "file_extension": ".py",
   "mimetype": "text/x-python",
   "name": "python",
   "nbconvert_exporter": "python",
   "pygments_lexer": "ipython3",
   "version": "3.10.12"
  },
  "papermill": {
   "default_parameters": {},
   "duration": 21.182059,
   "end_time": "2023-07-21T12:58:06.079179",
   "environment_variables": {},
   "exception": null,
   "input_path": "__notebook__.ipynb",
   "output_path": "__notebook__.ipynb",
   "parameters": {},
   "start_time": "2023-07-21T12:57:44.897120",
   "version": "2.4.0"
  }
 },
 "nbformat": 4,
 "nbformat_minor": 5
}
